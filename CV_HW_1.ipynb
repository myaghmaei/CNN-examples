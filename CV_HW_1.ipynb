{
 "cells": [
  {
   "cell_type": "code",
   "execution_count": 2,
   "id": "atlantic-security",
   "metadata": {},
   "outputs": [],
   "source": [
    "import os\n",
    "import shutil"
   ]
  },
  {
   "cell_type": "code",
   "execution_count": 5,
   "id": "tough-curtis",
   "metadata": {},
   "outputs": [],
   "source": [
    "# original dataset path\n",
    "original_dataset_dir = 'C:/Users/MOHSEN/JupyterProjects/cv_ho/kaggle_original_data'\n",
    "\n",
    "# smaller dataset path\n",
    "base_dir = 'C:/Users/MOHSEN/JupyterProjects/cats_and_dogs_small'\n",
    "os.mkdir(base_dir)"
   ]
  },
  {
   "cell_type": "code",
   "execution_count": null,
   "id": "italic-japan",
   "metadata": {},
   "outputs": [],
   "source": []
  }
 ],
 "metadata": {
  "kernelspec": {
   "display_name": "cvclass",
   "language": "python",
   "name": "cvclass"
  },
  "language_info": {
   "codemirror_mode": {
    "name": "ipython",
    "version": 3
   },
   "file_extension": ".py",
   "mimetype": "text/x-python",
   "name": "python",
   "nbconvert_exporter": "python",
   "pygments_lexer": "ipython3",
   "version": "3.8.5"
  }
 },
 "nbformat": 4,
 "nbformat_minor": 5
}
