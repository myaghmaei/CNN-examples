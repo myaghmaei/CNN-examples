{
 "cells": [
  {
   "cell_type": "code",
   "execution_count": 1,
   "id": "steady-romania",
   "metadata": {},
   "outputs": [],
   "source": [
    "import os\n",
    "import shutil\n",
    "from keras import layers\n",
    "from keras import models\n",
    "from keras import optimizers\n",
    "from keras.preprocessing.image import ImageDataGenerator\n",
    "import matplotlib.pyplot as plt"
   ]
  },
  {
   "cell_type": "code",
   "execution_count": 2,
   "id": "activated-circulation",
   "metadata": {},
   "outputs": [],
   "source": [
    "# original dataset path\n",
    "original_dataset_dir = 'C:/Users/MOHSEN/JupyterProjects/cv_homework/kaggle_original_data/train'\n",
    "\n",
    "# creating a directory for smaller dataset\n",
    "base_dir = 'C:/Users/MOHSEN/JupyterProjects/cv_homework/cats_and_dogs_small'\n",
    "os.mkdir(base_dir)"
   ]
  },
  {
   "cell_type": "code",
   "execution_count": 3,
   "id": "certain-purse",
   "metadata": {},
   "outputs": [],
   "source": [
    "# creating a directory for train data\n",
    "train_dir = os.path.join(base_dir, 'train')\n",
    "os.mkdir(train_dir)\n",
    "\n",
    "# creating a directory for validation data\n",
    "validation_dir = os.path.join(base_dir, 'validation')\n",
    "os.mkdir(validation_dir)\n",
    "\n",
    "# creating a directory for test data\n",
    "test_dir = os.path.join(base_dir, 'test')\n",
    "os.mkdir(test_dir)"
   ]
  },
  {
   "cell_type": "code",
   "execution_count": 4,
   "id": "surprised-organizer",
   "metadata": {},
   "outputs": [],
   "source": [
    "# creating a directory for cats in training data\n",
    "train_cats_dir = os.path.join(train_dir, 'cats')\n",
    "os.mkdir(train_cats_dir)\n",
    "\n",
    "# creating a directory for dogs in training data\n",
    "train_dogs_dir = os.path.join(train_dir, 'dogs')\n",
    "os.mkdir(train_dogs_dir)"
   ]
  },
  {
   "cell_type": "code",
   "execution_count": 5,
   "id": "offshore-uncertainty",
   "metadata": {},
   "outputs": [],
   "source": [
    "# creating a directory for cats in validation data\n",
    "validation_cats_dir = os.path.join(validation_dir, 'cats')\n",
    "os.mkdir(validation_cats_dir)\n",
    "\n",
    "# creating a directory for dogs in validation data\n",
    "validation_dogs_dir = os.path.join(validation_dir, 'dogs')\n",
    "os.mkdir(validation_dogs_dir)"
   ]
  },
  {
   "cell_type": "code",
   "execution_count": 6,
   "id": "hybrid-picture",
   "metadata": {},
   "outputs": [],
   "source": [
    "# creating a directory for cats in test data\n",
    "test_cats_dir = os.path.join(test_dir, 'cats')\n",
    "os.mkdir(test_cats_dir)\n",
    "\n",
    "# creating a directory for dogs in test data\n",
    "test_dogs_dir = os.path.join(test_dir, 'dogs')\n",
    "os.mkdir(test_dogs_dir)"
   ]
  },
  {
   "cell_type": "code",
   "execution_count": 7,
   "id": "powered-barrel",
   "metadata": {},
   "outputs": [],
   "source": [
    "# copying the first 1000 cat images to train_cats_dir\n",
    "fnames = ['cat.{}.jpg'.format(i) for i in range(1000)]\n",
    "for fname in fnames:\n",
    "    src = os.path.join(original_dataset_dir, fname)\n",
    "    dst = os.path.join(train_cats_dir, fname)\n",
    "    shutil.copyfile(src, dst)"
   ]
  },
  {
   "cell_type": "code",
   "execution_count": 8,
   "id": "aggregate-times",
   "metadata": {},
   "outputs": [],
   "source": [
    "# copying the next 500 cat images to validation_cats_dir\n",
    "fnames = ['cat.{}.jpg'.format(i) for i in range(1000, 1500)]\n",
    "for fname in fnames:\n",
    "    src = os.path.join(original_dataset_dir, fname)\n",
    "    dst = os.path.join(validation_cats_dir, fname)\n",
    "    shutil.copyfile(src, dst)"
   ]
  },
  {
   "cell_type": "code",
   "execution_count": 9,
   "id": "maritime-embassy",
   "metadata": {},
   "outputs": [],
   "source": [
    "# copying the next 500 cat images to test_cats_dir\n",
    "fnames = ['cat.{}.jpg'.format(i) for i in range(1500, 2000)]\n",
    "for fname in fnames:\n",
    "    src = os.path.join(original_dataset_dir, fname)\n",
    "    dst = os.path.join(test_cats_dir, fname)\n",
    "    shutil.copyfile(src, dst)"
   ]
  },
  {
   "cell_type": "code",
   "execution_count": 10,
   "id": "unauthorized-dispute",
   "metadata": {},
   "outputs": [],
   "source": [
    "# copying the first 1000 dog images to train_dogs_dir\n",
    "fnames = ['dog.{}.jpg'.format(i) for i in range(1000)]\n",
    "for fname in fnames:\n",
    "    src = os.path.join(original_dataset_dir, fname)\n",
    "    dst = os.path.join(train_dogs_dir, fname)\n",
    "    shutil.copyfile(src, dst)"
   ]
  },
  {
   "cell_type": "code",
   "execution_count": 11,
   "id": "elementary-tragedy",
   "metadata": {},
   "outputs": [],
   "source": [
    "# copying the next 500 dog images to validation_dogs_dir\n",
    "fnames = ['dog.{}.jpg'.format(i) for i in range(1000, 1500)]\n",
    "for fname in fnames:\n",
    "    src = os.path.join(original_dataset_dir, fname)\n",
    "    dst = os.path.join(validation_dogs_dir, fname)\n",
    "    shutil.copyfile(src, dst)"
   ]
  },
  {
   "cell_type": "code",
   "execution_count": 12,
   "id": "cognitive-salmon",
   "metadata": {},
   "outputs": [],
   "source": [
    "# copying the next 500 dog images to test_dogs_dir\n",
    "fnames = ['dog.{}.jpg'.format(i) for i in range(1500, 2000)]\n",
    "for fname in fnames:\n",
    "    src = os.path.join(original_dataset_dir, fname)\n",
    "    dst = os.path.join(test_dogs_dir, fname)\n",
    "    shutil.copyfile(src, dst)"
   ]
  },
  {
   "cell_type": "code",
   "execution_count": 13,
   "id": "interracial-intake",
   "metadata": {},
   "outputs": [
    {
     "name": "stdout",
     "output_type": "stream",
     "text": [
      "total training cat images: 1000\n",
      "total training dog images: 1000\n",
      "total validation cat images: 500\n",
      "total validation dog images: 500\n",
      "total test cat images: 500\n",
      "total test dog images: 500\n"
     ]
    }
   ],
   "source": [
    "print('total training cat images:', len(os.listdir(train_cats_dir)))\n",
    "print('total training dog images:', len(os.listdir(train_dogs_dir)))\n",
    "print('total validation cat images:', len(os.listdir(validation_cats_dir)))\n",
    "print('total validation dog images:', len(os.listdir(validation_dogs_dir)))\n",
    "print('total test cat images:', len(os.listdir(test_cats_dir)))\n",
    "print('total test dog images:', len(os.listdir(test_dogs_dir)))"
   ]
  },
  {
   "cell_type": "code",
   "execution_count": 14,
   "id": "dated-automation",
   "metadata": {},
   "outputs": [],
   "source": [
    "model = models.Sequential()\n",
    "\n",
    "model.add(layers.Conv2D(32, (3, 3), activation='relu', input_shape=(150, 150, 3)))\n",
    "model.add(layers.MaxPooling2D((2, 2)))\n",
    "\n",
    "model.add(layers.Conv2D(64, (3, 3), activation='relu'))\n",
    "model.add(layers.MaxPooling2D((2, 2)))\n",
    "\n",
    "model.add(layers.Conv2D(128, (3, 3), activation='relu'))\n",
    "model.add(layers.MaxPooling2D((2, 2)))\n",
    "\n",
    "model.add(layers.Conv2D(128, (3, 3), activation='relu'))\n",
    "model.add(layers.MaxPooling2D((2, 2)))\n",
    "\n",
    "model.add(layers.Flatten())\n",
    "\n",
    "model.add(layers.Dense(512, activation='relu'))\n",
    "model.add(layers.Dense(1, activation='sigmoid'))"
   ]
  },
  {
   "cell_type": "code",
   "execution_count": 15,
   "id": "divided-crest",
   "metadata": {},
   "outputs": [
    {
     "name": "stdout",
     "output_type": "stream",
     "text": [
      "Model: \"sequential\"\n",
      "_________________________________________________________________\n",
      "Layer (type)                 Output Shape              Param #   \n",
      "=================================================================\n",
      "conv2d (Conv2D)              (None, 148, 148, 32)      896       \n",
      "_________________________________________________________________\n",
      "max_pooling2d (MaxPooling2D) (None, 74, 74, 32)        0         \n",
      "_________________________________________________________________\n",
      "conv2d_1 (Conv2D)            (None, 72, 72, 64)        18496     \n",
      "_________________________________________________________________\n",
      "max_pooling2d_1 (MaxPooling2 (None, 36, 36, 64)        0         \n",
      "_________________________________________________________________\n",
      "conv2d_2 (Conv2D)            (None, 34, 34, 128)       73856     \n",
      "_________________________________________________________________\n",
      "max_pooling2d_2 (MaxPooling2 (None, 17, 17, 128)       0         \n",
      "_________________________________________________________________\n",
      "conv2d_3 (Conv2D)            (None, 15, 15, 128)       147584    \n",
      "_________________________________________________________________\n",
      "max_pooling2d_3 (MaxPooling2 (None, 7, 7, 128)         0         \n",
      "_________________________________________________________________\n",
      "flatten (Flatten)            (None, 6272)              0         \n",
      "_________________________________________________________________\n",
      "dense (Dense)                (None, 512)               3211776   \n",
      "_________________________________________________________________\n",
      "dense_1 (Dense)              (None, 1)                 513       \n",
      "=================================================================\n",
      "Total params: 3,453,121\n",
      "Trainable params: 3,453,121\n",
      "Non-trainable params: 0\n",
      "_________________________________________________________________\n"
     ]
    }
   ],
   "source": [
    "model.summary()"
   ]
  },
  {
   "cell_type": "code",
   "execution_count": 16,
   "id": "figured-andorra",
   "metadata": {},
   "outputs": [],
   "source": [
    "model.compile(loss='binary_crossentropy', optimizer=optimizers.RMSprop(lr=1e-4), metrics=['acc'])\n"
   ]
  },
  {
   "cell_type": "code",
   "execution_count": 17,
   "id": "informational-saying",
   "metadata": {},
   "outputs": [
    {
     "name": "stdout",
     "output_type": "stream",
     "text": [
      "Found 2000 images belonging to 2 classes.\n",
      "Found 1000 images belonging to 2 classes.\n"
     ]
    }
   ],
   "source": [
    "train_datagen = ImageDataGenerator(rescale=1./255)\n",
    "test_datagen = ImageDataGenerator(rescale=1./255)\n",
    "\n",
    "train_generator = train_datagen.flow_from_directory(train_dir, target_size=(150, 150), batch_size=20, class_mode='binary')\n",
    "\n",
    "validation_generator = test_datagen.flow_from_directory(validation_dir, target_size=(150, 150), batch_size=20, class_mode='binary')"
   ]
  },
  {
   "cell_type": "code",
   "execution_count": 18,
   "id": "found-entry",
   "metadata": {},
   "outputs": [
    {
     "name": "stdout",
     "output_type": "stream",
     "text": [
      "WARNING:tensorflow:From <ipython-input-18-43a82226ca35>:1: Model.fit_generator (from tensorflow.python.keras.engine.training) is deprecated and will be removed in a future version.\n",
      "Instructions for updating:\n",
      "Please use Model.fit, which supports generators.\n",
      "Epoch 1/30\n",
      "100/100 [==============================] - 37s 372ms/step - loss: 0.6887 - acc: 0.5270 - val_loss: 0.6749 - val_acc: 0.5850\n",
      "Epoch 2/30\n",
      "100/100 [==============================] - 30s 298ms/step - loss: 0.6592 - acc: 0.6100 - val_loss: 0.6396 - val_acc: 0.6430\n",
      "Epoch 3/30\n",
      "100/100 [==============================] - 30s 298ms/step - loss: 0.6184 - acc: 0.6600 - val_loss: 0.6097 - val_acc: 0.6760\n",
      "Epoch 4/30\n",
      "100/100 [==============================] - 30s 299ms/step - loss: 0.5795 - acc: 0.6940 - val_loss: 0.6065 - val_acc: 0.6640\n",
      "Epoch 5/30\n",
      "100/100 [==============================] - 31s 309ms/step - loss: 0.5446 - acc: 0.7255 - val_loss: 0.5692 - val_acc: 0.6850\n",
      "Epoch 6/30\n",
      "100/100 [==============================] - 30s 304ms/step - loss: 0.5172 - acc: 0.7365 - val_loss: 0.5569 - val_acc: 0.7090\n",
      "Epoch 7/30\n",
      "100/100 [==============================] - 31s 306ms/step - loss: 0.4884 - acc: 0.7680 - val_loss: 0.5581 - val_acc: 0.7080\n",
      "Epoch 8/30\n",
      "100/100 [==============================] - 31s 309ms/step - loss: 0.4564 - acc: 0.7840 - val_loss: 0.5715 - val_acc: 0.7050\n",
      "Epoch 9/30\n",
      "100/100 [==============================] - 30s 301ms/step - loss: 0.4368 - acc: 0.8015 - val_loss: 0.5501 - val_acc: 0.7240\n",
      "Epoch 10/30\n",
      "100/100 [==============================] - 31s 305ms/step - loss: 0.4060 - acc: 0.8085 - val_loss: 0.6049 - val_acc: 0.7000\n",
      "Epoch 11/30\n",
      "100/100 [==============================] - 30s 303ms/step - loss: 0.3869 - acc: 0.8305 - val_loss: 0.5739 - val_acc: 0.7210\n",
      "Epoch 12/30\n",
      "100/100 [==============================] - 30s 301ms/step - loss: 0.3688 - acc: 0.8340 - val_loss: 0.5565 - val_acc: 0.7240\n",
      "Epoch 13/30\n",
      "100/100 [==============================] - 30s 297ms/step - loss: 0.3395 - acc: 0.8525 - val_loss: 0.5973 - val_acc: 0.7280\n",
      "Epoch 14/30\n",
      "100/100 [==============================] - 30s 298ms/step - loss: 0.3239 - acc: 0.8550 - val_loss: 0.5897 - val_acc: 0.7210\n",
      "Epoch 15/30\n",
      "100/100 [==============================] - 30s 298ms/step - loss: 0.2977 - acc: 0.8750 - val_loss: 0.5567 - val_acc: 0.7560\n",
      "Epoch 16/30\n",
      "100/100 [==============================] - 30s 297ms/step - loss: 0.2737 - acc: 0.8880 - val_loss: 0.5697 - val_acc: 0.7400\n",
      "Epoch 17/30\n",
      "100/100 [==============================] - 30s 299ms/step - loss: 0.2470 - acc: 0.8975 - val_loss: 0.6002 - val_acc: 0.7440\n",
      "Epoch 18/30\n",
      "100/100 [==============================] - 30s 305ms/step - loss: 0.2301 - acc: 0.9145 - val_loss: 0.6094 - val_acc: 0.7430\n",
      "Epoch 19/30\n",
      "100/100 [==============================] - 33s 329ms/step - loss: 0.2151 - acc: 0.9135 - val_loss: 0.7267 - val_acc: 0.7090\n",
      "Epoch 20/30\n",
      "100/100 [==============================] - 32s 322ms/step - loss: 0.1956 - acc: 0.9250 - val_loss: 0.6322 - val_acc: 0.7230\n",
      "Epoch 21/30\n",
      "100/100 [==============================] - 32s 321ms/step - loss: 0.1654 - acc: 0.9425 - val_loss: 0.7771 - val_acc: 0.7040\n",
      "Epoch 22/30\n",
      "100/100 [==============================] - 31s 311ms/step - loss: 0.1520 - acc: 0.9460 - val_loss: 0.8634 - val_acc: 0.7280\n",
      "Epoch 23/30\n",
      "100/100 [==============================] - 31s 306ms/step - loss: 0.1352 - acc: 0.9470 - val_loss: 0.7112 - val_acc: 0.7410\n",
      "Epoch 24/30\n",
      "100/100 [==============================] - 31s 310ms/step - loss: 0.1182 - acc: 0.9610 - val_loss: 0.8651 - val_acc: 0.7120\n",
      "Epoch 25/30\n",
      "100/100 [==============================] - 33s 327ms/step - loss: 0.1033 - acc: 0.9705 - val_loss: 0.8089 - val_acc: 0.7430\n",
      "Epoch 26/30\n",
      "100/100 [==============================] - 33s 326ms/step - loss: 0.0894 - acc: 0.9735 - val_loss: 0.7873 - val_acc: 0.7410\n",
      "Epoch 27/30\n",
      "100/100 [==============================] - 34s 340ms/step - loss: 0.0765 - acc: 0.9770 - val_loss: 0.9245 - val_acc: 0.7230\n",
      "Epoch 28/30\n",
      "100/100 [==============================] - 30s 300ms/step - loss: 0.0707 - acc: 0.9810 - val_loss: 0.8979 - val_acc: 0.7390\n",
      "Epoch 29/30\n",
      "100/100 [==============================] - 31s 306ms/step - loss: 0.0582 - acc: 0.9825 - val_loss: 0.9034 - val_acc: 0.7350\n",
      "Epoch 30/30\n",
      "100/100 [==============================] - 30s 303ms/step - loss: 0.0476 - acc: 0.9905 - val_loss: 0.9577 - val_acc: 0.7280\n"
     ]
    }
   ],
   "source": [
    "history = model.fit_generator(train_generator, steps_per_epoch=100, epochs=30, validation_data=validation_generator, validation_steps=50)"
   ]
  },
  {
   "cell_type": "code",
   "execution_count": 19,
   "id": "planned-message",
   "metadata": {},
   "outputs": [],
   "source": [
    "model.save('cats_and_dogs_small_1.h5')"
   ]
  },
  {
   "cell_type": "code",
   "execution_count": 20,
   "id": "outer-desire",
   "metadata": {},
   "outputs": [
    {
     "data": {
      "image/png": "[encoded data removed]",
      "text/plain": [
       "<Figure size 432x288 with 1 Axes>"
      ]
     },
     "metadata": {
      "needs_background": "light"
     },
     "output_type": "display_data"
    },
    {
     "data": {
      "image/png": "[encoded data removed]",
      "text/plain": [
       "<Figure size 432x288 with 1 Axes>"
      ]
     },
     "metadata": {
      "needs_background": "light"
     },
     "output_type": "display_data"
    }
   ],
   "source": [
    "acc = history.history['acc']\n",
    "val_acc = history.history['val_acc']\n",
    "loss = history.history['loss']\n",
    "val_loss = history.history['val_loss']\n",
    "\n",
    "epochs = range(1, len(acc) + 1)\n",
    "\n",
    "plt.plot(epochs, acc, 'bo', label='Training acc')\n",
    "plt.plot(epochs, val_acc, 'b', label='Validation acc')\n",
    "plt.title('Training and validation accuracy')\n",
    "plt.legend()\n",
    "\n",
    "plt.figure()\n",
    "\n",
    "plt.plot(epochs, loss, 'bo', label='Training loss')\n",
    "plt.plot(epochs, val_loss, 'b', label='Validation loss')\n",
    "plt.title('Training and validation loss')\n",
    "plt.legend()\n",
    "\n",
    "plt.show()"
   ]
  },
  {
   "cell_type": "code",
   "execution_count": null,
   "id": "offensive-freight",
   "metadata": {},
   "outputs": [],
   "source": []
  }
 ],
 "metadata": {
  "kernelspec": {
   "display_name": "cvclass",
   "language": "python",
   "name": "cvclass"
  },
  "language_info": {
   "codemirror_mode": {
    "name": "ipython",
    "version": 3
   },
   "file_extension": ".py",
   "mimetype": "text/x-python",
   "name": "python",
   "nbconvert_exporter": "python",
   "pygments_lexer": "ipython3",
   "version": "3.8.5"
  }
 },
 "nbformat": 4,
 "nbformat_minor": 5
}
